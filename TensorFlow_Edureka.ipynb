{
 "cells": [
  {
   "cell_type": "code",
   "execution_count": 1,
   "metadata": {
    "collapsed": true
   },
   "outputs": [],
   "source": [
    "#tensorboard --logdir = 'logs'\n",
    "import tensorflow as tf"
   ]
  },
  {
   "cell_type": "code",
   "execution_count": 2,
   "metadata": {
    "collapsed": false
   },
   "outputs": [
    {
     "name": "stdout",
     "output_type": "stream",
     "text": [
      "15.0\n"
     ]
    }
   ],
   "source": [
    "a = tf.constant(3.0)\n",
    "b = tf.constant(5.0)\n",
    "c = a*b\n",
    "sess = tf.Session()\n",
    "print(sess.run(c))\n",
    "\n",
    "\n",
    "file_writer = tf.summary.FileWriter('C:\\\\Prajeen\\\\_Workstation\\\\DataScience\\\\GitHub\\\\workshop\\\\graph5', sess.graph)\n",
    "\n",
    "mulSumm = tf.summary.scalar('multi', c)\n",
    "rVal = sess.run(mulSumm)\n",
    "\n",
    "file_writer.add_summary(rVal)\n",
    "file_writer.close()\n",
    "sess.close()"
   ]
  },
  {
   "cell_type": "code",
   "execution_count": 34,
   "metadata": {
    "collapsed": false
   },
   "outputs": [
    {
     "name": "stdout",
     "output_type": "stream",
     "text": [
      "[3.1799998 3.5       3.82      2.22     ]\n",
      "48.523197\n"
     ]
    }
   ],
   "source": [
    "# W = tf.Variable([.32], tf.float32)\n",
    "# b = tf.Variable([1.9], tf.float32)\n",
    "# x = tf.placeholder(tf.float32)\n",
    "\n",
    "# linear_model = W * x + b\n",
    "\n",
    "# y = tf.placeholder(tf.float32)\n",
    "\n",
    "# #loss fn\n",
    "# squre_delta = tf.square(linear_model - y)\n",
    "# loss = tf.reduce_sum(squre_delta)\n",
    "\n",
    "# init = tf.global_variables_initializer()\n",
    "\n",
    "# sess = tf.Session()\n",
    "# sess.run(init)\n",
    "\n",
    "# print(sess.run(linear_model, {x:[4,5,6,1]}))\n",
    "# loss_val = sess.run(loss, {x: [4,5,6,1], y: [1,4,7,8]})\n",
    "# print(loss_val)"
   ]
  },
  {
   "cell_type": "code",
   "execution_count": 57,
   "metadata": {
    "collapsed": false
   },
   "outputs": [
    {
     "name": "stdout",
     "output_type": "stream",
     "text": [
      "[3.1799998 3.5       3.82      2.22     ]\n",
      "48.523197\n",
      "[array([-0.36702234], dtype=float32), array([6.4168835], dtype=float32)]\n",
      "[4.9487944 4.581772  4.2147493 6.049861 ]\n",
      "27.4921\n"
     ]
    }
   ],
   "source": [
    "W = tf.Variable([.32], tf.float32)\n",
    "b = tf.Variable([1.9], tf.float32)\n",
    "x = tf.placeholder(tf.float32)\n",
    "\n",
    "linear_model = W * x + b\n",
    "\n",
    "y = tf.placeholder(tf.float32)\n",
    "\n",
    "#loss fn\n",
    "squre_delta = tf.square(linear_model - y)\n",
    "loss = tf.reduce_sum(squre_delta)\n",
    "\n",
    "init = tf.global_variables_initializer()\n",
    "\n",
    "optimizer = tf.train.GradientDescentOptimizer(0.01)\n",
    "train = optimizer.minimize(loss)\n",
    "\n",
    "sess = tf.Session()\n",
    "sess.run(init)\n",
    "\n",
    "print(sess.run(linear_model, {x:[4,5,6,1]}))\n",
    "loss_val = sess.run(loss, {x: [4,5,6,1], y: [1,4,7,8]})\n",
    "print(loss_val)\n",
    "\n",
    "for val in range(200):\n",
    "    sess.run(train,  {x: [4,5,6,1], y: [1,4,7,8]})\n",
    "\n",
    "print(sess.run([W,b]))\n",
    "print(sess.run(linear_model, {x:[4,5,6,1]}))\n",
    "print(sess.run(loss, {x: [4,5,6,1], y: [1,4,7,8]}))"
   ]
  },
  {
   "cell_type": "code",
   "execution_count": 48,
   "metadata": {
    "collapsed": false
   },
   "outputs": [
    {
     "name": "stdout",
     "output_type": "stream",
     "text": [
      "[2.22      2.54      2.86      3.1799998]\n",
      "79.271996\n",
      "[array([-1.012355], dtype=float32), array([1.0363251], dtype=float32)]\n",
      "[ 0.02397013 -0.98838484 -2.00074    -3.013095  ]\n",
      "0.000881503\n"
     ]
    }
   ],
   "source": [
    "W = tf.Variable([.32], tf.float32)\n",
    "b = tf.Variable([1.9], tf.float32)\n",
    "x = tf.placeholder(tf.float32)\n",
    "\n",
    "linear_model = W * x + b\n",
    "\n",
    "y = tf.placeholder(tf.float32)\n",
    "\n",
    "#loss fn\n",
    "squre_delta = tf.square(linear_model - y)\n",
    "loss = tf.reduce_sum(squre_delta)\n",
    "\n",
    "init = tf.global_variables_initializer()\n",
    "\n",
    "optimizer = tf.train.GradientDescentOptimizer(0.01)\n",
    "train = optimizer.minimize(loss)\n",
    "\n",
    "sess = tf.Session()\n",
    "sess.run(init)\n",
    "\n",
    "print(sess.run(linear_model, {x:[1,2,3,4]}))\n",
    "loss_val = sess.run(loss, {x:[1,2,3,4], y: [0, -1, -2, -3]})\n",
    "print(loss_val)\n",
    "\n",
    "for val in range(200):\n",
    "    sess.run(train,  {x:[1,2,3,4], y: [0, -1, -2, -3]})\n",
    "\n",
    "print(sess.run([W,b]))\n",
    "print(sess.run(linear_model, {x:[1,2,3,4]}))\n",
    "print(sess.run(loss, {x:[1,2,3,4], y: [0, -1, -2, -3]}))"
   ]
  },
  {
   "cell_type": "code",
   "execution_count": 65,
   "metadata": {
    "collapsed": true
   },
   "outputs": [],
   "source": [
    "from __future__ import print_function\n",
    "import tensorflow as tf\n",
    "\n",
    "\n",
    "def add_layer(inputs, in_size, out_size, activation_function=None):\n",
    "    # add one more layer and return the output of this layer\n",
    "    with tf.name_scope('layer'):\n",
    "        with tf.name_scope('weights'):\n",
    "            Weights = tf.Variable(tf.random_normal([in_size, out_size]), name='W')\n",
    "        with tf.name_scope('biases'):\n",
    "            biases = tf.Variable(tf.zeros([1, out_size]) + 0.1, name='b')\n",
    "        with tf.name_scope('Wx_plus_b'):\n",
    "            Wx_plus_b = tf.add(tf.matmul(inputs, Weights), biases)\n",
    "        if activation_function is None:\n",
    "            outputs = Wx_plus_b\n",
    "        else:\n",
    "            outputs = activation_function(Wx_plus_b, )\n",
    "        return outputs\n",
    "\n",
    "\n",
    "# define placeholder for inputs to network\n",
    "with tf.name_scope('inputs'):\n",
    "    xs = tf.placeholder(tf.float32, [None, 1], name='x_input')\n",
    "    ys = tf.placeholder(tf.float32, [None, 1], name='y_input')\n",
    "\n",
    "# add hidden layer\n",
    "l1 = add_layer(xs, 1, 10, activation_function=tf.nn.relu)\n",
    "# add output layer\n",
    "prediction = add_layer(l1, 10, 1, activation_function=None)\n",
    "\n",
    "# the error between prediciton and real data\n",
    "with tf.name_scope('loss'):\n",
    "    loss = tf.reduce_mean(tf.reduce_sum(tf.square(ys - prediction),\n",
    "                                        reduction_indices=[1]))\n",
    "\n",
    "with tf.name_scope('train'):\n",
    "    train_step = tf.train.GradientDescentOptimizer(0.1).minimize(loss)\n",
    "\n",
    "sess = tf.Session()\n",
    "\n",
    "# tf.train.SummaryWriter soon be deprecated, use following\n",
    "if int((tf.__version__).split('.')[1]) < 12 and int((tf.__version__).split('.')[0]) < 1:  # tensorflow version < 0.12\n",
    "    writer = tf.train.SummaryWriter('logs/', sess.graph)\n",
    "else: # tensorflow version >= 0.12\n",
    "    writer = tf.summary.FileWriter(\"logs/\", sess.graph)\n",
    "\n",
    "# tf.initialize_all_variables() no long valid from\n",
    "# 2017-03-02 if using tensorflow >= 0.12\n",
    "if int((tf.__version__).split('.')[1]) < 12 and int((tf.__version__).split('.')[0]) < 1:\n",
    "    init = tf.initialize_all_variables()\n",
    "else:\n",
    "    init = tf.global_variables_initializer()\n",
    "sess.run(init)\n"
   ]
  },
  {
   "cell_type": "code",
   "execution_count": null,
   "metadata": {
    "collapsed": true
   },
   "outputs": [],
   "source": []
  }
 ],
 "metadata": {
  "kernelspec": {
   "display_name": "Python 3",
   "language": "python",
   "name": "python3"
  },
  "language_info": {
   "codemirror_mode": {
    "name": "ipython",
    "version": 3
   },
   "file_extension": ".py",
   "mimetype": "text/x-python",
   "name": "python",
   "nbconvert_exporter": "python",
   "pygments_lexer": "ipython3",
   "version": "3.5.5"
  }
 },
 "nbformat": 4,
 "nbformat_minor": 2
}
