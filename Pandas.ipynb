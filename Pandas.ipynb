{
 "cells": [
  {
   "cell_type": "code",
   "execution_count": 47,
   "metadata": {
    "collapsed": true
   },
   "outputs": [],
   "source": [
    "import pandas as pd\n",
    "import numpy as np\n",
    "import matplotlib \n",
    "import matplotlib.pyplot as plt"
   ]
  },
  {
   "cell_type": "code",
   "execution_count": 2,
   "metadata": {
    "collapsed": false
   },
   "outputs": [
    {
     "name": "stdout",
     "output_type": "stream",
     "text": [
      "    name  numb  value\n",
      "0    asf     8     32\n",
      "1  praje     5     63\n",
      "2  wrwer     5     94\n",
      "3   qwre     8     25\n",
      "4   sadf     5     63\n"
     ]
    }
   ],
   "source": [
    "df =  pd.DataFrame({'value':[32,63,94,25,63], 'numb':[8,5,5,8,5], 'name':['asf','praje','wrwer','qwre','sadf']})\n",
    "print(df)"
   ]
  },
  {
   "cell_type": "code",
   "execution_count": 3,
   "metadata": {
    "collapsed": true
   },
   "outputs": [],
   "source": [
    "#As soon as you call df.set_index() on a particular column, it would become an index of the df.\n",
    "index = df.set_index(['numb','value'])"
   ]
  },
  {
   "cell_type": "code",
   "execution_count": 4,
   "metadata": {
    "collapsed": false,
    "scrolled": true
   },
   "outputs": [
    {
     "name": "stdout",
     "output_type": "stream",
     "text": [
      "             name\n",
      "numb value       \n",
      "8    32       asf\n",
      "5    63     praje\n",
      "     94     wrwer\n",
      "8    25      qwre\n",
      "5    63      sadf\n"
     ]
    }
   ],
   "source": [
    "print(index)"
   ]
  },
  {
   "cell_type": "code",
   "execution_count": 5,
   "metadata": {
    "collapsed": false
   },
   "outputs": [
    {
     "name": "stdout",
     "output_type": "stream",
     "text": [
      "             name\n",
      "numb value       \n",
      "5    63     praje\n",
      "     63      sadf\n",
      "     94     wrwer\n",
      "8    25      qwre\n",
      "     32       asf\n"
     ]
    }
   ],
   "source": [
    "print(index.sort_index())"
   ]
  },
  {
   "cell_type": "code",
   "execution_count": 6,
   "metadata": {
    "collapsed": false
   },
   "outputs": [
    {
     "name": "stderr",
     "output_type": "stream",
     "text": [
      "C:\\Prajeen\\_Workstation\\Anaconda\\lib\\site-packages\\ipykernel\\__main__.py:1: PerformanceWarning: indexing past lexsort depth may impact performance.\n",
      "  if __name__ == '__main__':\n"
     ]
    },
    {
     "data": {
      "text/html": [
       "<div>\n",
       "<style scoped>\n",
       "    .dataframe tbody tr th:only-of-type {\n",
       "        vertical-align: middle;\n",
       "    }\n",
       "\n",
       "    .dataframe tbody tr th {\n",
       "        vertical-align: top;\n",
       "    }\n",
       "\n",
       "    .dataframe thead th {\n",
       "        text-align: right;\n",
       "    }\n",
       "</style>\n",
       "<table border=\"1\" class=\"dataframe\">\n",
       "  <thead>\n",
       "    <tr style=\"text-align: right;\">\n",
       "      <th></th>\n",
       "      <th></th>\n",
       "      <th>name</th>\n",
       "    </tr>\n",
       "    <tr>\n",
       "      <th>numb</th>\n",
       "      <th>value</th>\n",
       "      <th></th>\n",
       "    </tr>\n",
       "  </thead>\n",
       "  <tbody>\n",
       "    <tr>\n",
       "      <th rowspan=\"2\" valign=\"top\">5</th>\n",
       "      <th>63</th>\n",
       "      <td>praje</td>\n",
       "    </tr>\n",
       "    <tr>\n",
       "      <th>63</th>\n",
       "      <td>sadf</td>\n",
       "    </tr>\n",
       "  </tbody>\n",
       "</table>\n",
       "</div>"
      ],
      "text/plain": [
       "             name\n",
       "numb value       \n",
       "5    63     praje\n",
       "     63      sadf"
      ]
     },
     "execution_count": 6,
     "metadata": {},
     "output_type": "execute_result"
    }
   ],
   "source": [
    "index.loc[5,63]"
   ]
  },
  {
   "cell_type": "code",
   "execution_count": 7,
   "metadata": {
    "collapsed": false
   },
   "outputs": [
    {
     "name": "stdout",
     "output_type": "stream",
     "text": [
      "   numb  value   name\n",
      "0     8     32    asf\n",
      "1     5     63  praje\n",
      "2     5     94  wrwer\n",
      "3     8     25   qwre\n",
      "4     5     63   sadf\n"
     ]
    }
   ],
   "source": [
    "print(index.reset_index())"
   ]
  },
  {
   "cell_type": "code",
   "execution_count": 8,
   "metadata": {
    "collapsed": false
   },
   "outputs": [
    {
     "data": {
      "text/html": [
       "<div>\n",
       "<style scoped>\n",
       "    .dataframe tbody tr th:only-of-type {\n",
       "        vertical-align: middle;\n",
       "    }\n",
       "\n",
       "    .dataframe tbody tr th {\n",
       "        vertical-align: top;\n",
       "    }\n",
       "\n",
       "    .dataframe thead th {\n",
       "        text-align: right;\n",
       "    }\n",
       "</style>\n",
       "<table border=\"1\" class=\"dataframe\">\n",
       "  <thead>\n",
       "    <tr style=\"text-align: right;\">\n",
       "      <th></th>\n",
       "      <th>name</th>\n",
       "    </tr>\n",
       "    <tr>\n",
       "      <th>value</th>\n",
       "      <th></th>\n",
       "    </tr>\n",
       "  </thead>\n",
       "  <tbody>\n",
       "    <tr>\n",
       "      <th>63</th>\n",
       "      <td>praje</td>\n",
       "    </tr>\n",
       "    <tr>\n",
       "      <th>94</th>\n",
       "      <td>wrwer</td>\n",
       "    </tr>\n",
       "    <tr>\n",
       "      <th>63</th>\n",
       "      <td>sadf</td>\n",
       "    </tr>\n",
       "  </tbody>\n",
       "</table>\n",
       "</div>"
      ],
      "text/plain": [
       "        name\n",
       "value       \n",
       "63     praje\n",
       "94     wrwer\n",
       "63      sadf"
      ]
     },
     "execution_count": 8,
     "metadata": {},
     "output_type": "execute_result"
    }
   ],
   "source": [
    "# Raw slicing\n",
    "index.loc[5]"
   ]
  },
  {
   "cell_type": "code",
   "execution_count": 9,
   "metadata": {
    "collapsed": false
   },
   "outputs": [
    {
     "name": "stdout",
     "output_type": "stream",
     "text": [
      "          name  numb\n",
      "value               \n",
      "32    7    asf     8\n",
      "63    8  praje     5\n",
      "94    9  wrwer     5\n",
      "25    1   qwre     8\n",
      "63    5   sadf     5\n"
     ]
    }
   ],
   "source": [
    "index2 = df.set_index(['value',[7,8,9,1,5]])\n",
    "print(index2)"
   ]
  },
  {
   "cell_type": "code",
   "execution_count": 10,
   "metadata": {
    "collapsed": false
   },
   "outputs": [
    {
     "name": "stdout",
     "output_type": "stream",
     "text": [
      "    name  numb  value\n",
      "7    asf     8     32\n",
      "8  praje     5     63\n",
      "9  wrwer     5     94\n",
      "1   qwre     8     25\n",
      "6   sadf     5     63\n"
     ]
    }
   ],
   "source": [
    "index3 = df.set_index([[7,8,9,1,6]])\n",
    "print(index3)"
   ]
  },
  {
   "cell_type": "code",
   "execution_count": 11,
   "metadata": {
    "collapsed": false
   },
   "outputs": [
    {
     "name": "stdout",
     "output_type": "stream",
     "text": [
      "        name  numb\n",
      "value             \n",
      "32       asf     8\n",
      "63     praje     5\n",
      "94     wrwer     5\n",
      "25      qwre     8\n",
      "63      sadf     5\n"
     ]
    }
   ],
   "source": [
    "index4 = df.set_index(['value'])\n",
    "print(index4)"
   ]
  },
  {
   "cell_type": "code",
   "execution_count": 12,
   "metadata": {
    "collapsed": false
   },
   "outputs": [
    {
     "name": "stdout",
     "output_type": "stream",
     "text": [
      "[['one', 'two', 'three'], ['rum', 'tum', 'num']]\n",
      "[('one', 'rum'), ('two', 'tum'), ('three', 'num')]\n",
      "[('one', 'rum'), ('two', 'tum'), ('three', 'num')]\n",
      "[[[2, 3, 5], [6, 7, 9]]]\n",
      "[[2, 3, 5], [6, 7, 9]]\n",
      "[[2, 3, 5], [6, 7, 9]]\n",
      "[2, 3, 5] [6, 7, 9]\n",
      "2 3 4\n"
     ]
    }
   ],
   "source": [
    "''' \n",
    "============= Documentation ================\n",
    "Ultimately * on any array object will give you values in that array in the form of a list\n",
    "1D array will be convered to content\n",
    "2D array will be converted to list of 1D array\n",
    "3D array will be converted to list of 2D array\n",
    "============================================\n",
    "'''\n",
    "ar = [['one','two','three'],['rum','tum','num']]\n",
    "print(ar)\n",
    "print(list(zip(*ar)))\n",
    "\n",
    "din = ['one','two','three']\n",
    "tin = ['rum','tum','num']\n",
    "print(list(zip(din,tin)))\n",
    "\n",
    "num = [[[2,3,5],[6,7,9]]]\n",
    "print(num)\n",
    "tum = list(*num)\n",
    "print(*num)\n",
    "print(tum)\n",
    "print(*tum)\n",
    "print(*[2,3,4])"
   ]
  },
  {
   "cell_type": "code",
   "execution_count": 13,
   "metadata": {
    "collapsed": false
   },
   "outputs": [
    {
     "name": "stdout",
     "output_type": "stream",
     "text": [
      "[[2, 3, 5], [6, 7, 9]]\n"
     ]
    }
   ],
   "source": [
    "num = [[[2,3,5],[6,7,9]]]\n",
    "print(*num)"
   ]
  },
  {
   "cell_type": "markdown",
   "metadata": {},
   "source": [
    "### Documentation\n",
    "use the following links for details on indexing \n",
    "\n",
    "http://tomaugspurger.github.io/modern-1.html\n",
    "http://tomaugspurger.github.io/modern-3-indexes.html\n",
    "\n",
    "This link explains the performance optimization using indexes. examples of using set_index, reset_index, reindex etc\n",
    "http://tomaugspurger.github.io/modern-4-performance.html\n",
    "\n",
    "\n",
    "Pandas documentation on indexing (advanced) -> https://pandas.pydata.org/pandas-docs/stable/advanced.html\n",
    "another indexing doc - Essential -> https://pandas.pydata.org/pandas-docs/stable/basics.html\n",
    "\n",
    "Pandas cookbook - very good documentation. \n",
    "go to 'modern pandas' -> http://pandas.pydata.org/pandasdocs/stable/tutorials.html#pandas-cookbook\n"
   ]
  },
  {
   "cell_type": "code",
   "execution_count": 26,
   "metadata": {
    "collapsed": false
   },
   "outputs": [
    {
     "name": "stdout",
     "output_type": "stream",
     "text": [
      "  letter  number\n",
      "0      a       1\n",
      "1      b       2\n",
      "  letter animal\n",
      "0      a   asdf\n",
      "1      b    asf\n",
      "  letter  number animal\n",
      "0      a       1   asdf\n",
      "1      b       2    asf\n"
     ]
    }
   ],
   "source": [
    "#merging of dataframes / similar to joingin of SQL tables\n",
    "\n",
    "df1 = pd.DataFrame([['a', 1], ['b', 2]], columns=['letter', 'number'])\n",
    "df3 = pd.DataFrame([['a', 'asdf'], ['b', 'asf']], columns=['letter', 'animal'])\n",
    "print(df1)\n",
    "print(df3)\n",
    "final = df1.merge(df3, on=['letter'], how='left')\n",
    "print(final)"
   ]
  },
  {
   "cell_type": "code",
   "execution_count": 41,
   "metadata": {
    "collapsed": false
   },
   "outputs": [
    {
     "data": {
      "text/html": [
       "<div>\n",
       "<style scoped>\n",
       "    .dataframe tbody tr th:only-of-type {\n",
       "        vertical-align: middle;\n",
       "    }\n",
       "\n",
       "    .dataframe tbody tr th {\n",
       "        vertical-align: top;\n",
       "    }\n",
       "\n",
       "    .dataframe thead th {\n",
       "        text-align: right;\n",
       "    }\n",
       "</style>\n",
       "<table border=\"1\" class=\"dataframe\">\n",
       "  <thead>\n",
       "    <tr style=\"text-align: right;\">\n",
       "      <th></th>\n",
       "      <th>letter</th>\n",
       "      <th>number_x</th>\n",
       "      <th>number_y</th>\n",
       "    </tr>\n",
       "  </thead>\n",
       "  <tbody>\n",
       "    <tr>\n",
       "      <th>0</th>\n",
       "      <td>a</td>\n",
       "      <td>1</td>\n",
       "      <td>1</td>\n",
       "    </tr>\n",
       "    <tr>\n",
       "      <th>1</th>\n",
       "      <td>b</td>\n",
       "      <td>2</td>\n",
       "      <td>2</td>\n",
       "    </tr>\n",
       "  </tbody>\n",
       "</table>\n",
       "</div>"
      ],
      "text/plain": [
       "  letter  number_x  number_y\n",
       "0      a         1         1\n",
       "1      b         2         2"
      ]
     },
     "execution_count": 41,
     "metadata": {},
     "output_type": "execute_result"
    }
   ],
   "source": [
    "# even if you have same column values, merging will create another column\n",
    "df2 = pd.DataFrame([['a', 1], ['b', 2]], columns=['letter', 'number'])\n",
    "df1.merge(df2, on=['letter'], how='left')"
   ]
  },
  {
   "cell_type": "code",
   "execution_count": 32,
   "metadata": {
    "collapsed": false
   },
   "outputs": [
    {
     "name": "stdout",
     "output_type": "stream",
     "text": [
      "0\n",
      "letter       a\n",
      "number       1\n",
      "animal    asdf\n",
      "Name: 0, dtype: object\n"
     ]
    }
   ],
   "source": [
    "#iterating through rows of the DF\n",
    "ind, row = next(final.iterrows())\n",
    "print(ind)\n",
    "print(row)"
   ]
  },
  {
   "cell_type": "code",
   "execution_count": 35,
   "metadata": {
    "collapsed": false
   },
   "outputs": [
    {
     "name": "stdout",
     "output_type": "stream",
     "text": [
      "0\n",
      "letter       a\n",
      "number       1\n",
      "animal    asdf\n",
      "Name: 0, dtype: object\n",
      "asdf\n",
      "1\n",
      "letter      b\n",
      "number      2\n",
      "animal    asf\n",
      "Name: 1, dtype: object\n",
      "asf\n"
     ]
    }
   ],
   "source": [
    "#iterating through rows of the DF\n",
    "for ind, row in final.iterrows():\n",
    "    print(ind)\n",
    "    print(row)\n",
    "    print(row['animal'])"
   ]
  },
  {
   "cell_type": "code",
   "execution_count": 42,
   "metadata": {
    "collapsed": true
   },
   "outputs": [],
   "source": [
    "df = pd.DataFrame({'a': np.random.randint(0, 50, 1000)})\n",
    "df['b'] = df['a'] + np.random.normal(0, 10, 1000) # positively correlated with 'a'\n",
    "df['c'] = 100 - df['a'] + np.random.normal(0, 5, 1000) # negatively correlated with 'a'\n",
    "df['d'] = np.random.randint(0, 50, 1000) # not correlated with 'a'"
   ]
  },
  {
   "cell_type": "code",
   "execution_count": 51,
   "metadata": {
    "collapsed": false
   },
   "outputs": [
    {
     "data": {
      "text/html": [
       "<div>\n",
       "<style scoped>\n",
       "    .dataframe tbody tr th:only-of-type {\n",
       "        vertical-align: middle;\n",
       "    }\n",
       "\n",
       "    .dataframe tbody tr th {\n",
       "        vertical-align: top;\n",
       "    }\n",
       "\n",
       "    .dataframe thead th {\n",
       "        text-align: right;\n",
       "    }\n",
       "</style>\n",
       "<table border=\"1\" class=\"dataframe\">\n",
       "  <thead>\n",
       "    <tr style=\"text-align: right;\">\n",
       "      <th></th>\n",
       "      <th>a</th>\n",
       "      <th>b</th>\n",
       "      <th>c</th>\n",
       "      <th>d</th>\n",
       "    </tr>\n",
       "  </thead>\n",
       "  <tbody>\n",
       "    <tr>\n",
       "      <th>a</th>\n",
       "      <td>1.000000</td>\n",
       "      <td>0.814015</td>\n",
       "      <td>-0.941949</td>\n",
       "      <td>0.014498</td>\n",
       "    </tr>\n",
       "    <tr>\n",
       "      <th>b</th>\n",
       "      <td>0.814015</td>\n",
       "      <td>1.000000</td>\n",
       "      <td>-0.765614</td>\n",
       "      <td>0.007863</td>\n",
       "    </tr>\n",
       "    <tr>\n",
       "      <th>c</th>\n",
       "      <td>-0.941949</td>\n",
       "      <td>-0.765614</td>\n",
       "      <td>1.000000</td>\n",
       "      <td>-0.002344</td>\n",
       "    </tr>\n",
       "    <tr>\n",
       "      <th>d</th>\n",
       "      <td>0.014498</td>\n",
       "      <td>0.007863</td>\n",
       "      <td>-0.002344</td>\n",
       "      <td>1.000000</td>\n",
       "    </tr>\n",
       "  </tbody>\n",
       "</table>\n",
       "</div>"
      ],
      "text/plain": [
       "          a         b         c         d\n",
       "a  1.000000  0.814015 -0.941949  0.014498\n",
       "b  0.814015  1.000000 -0.765614  0.007863\n",
       "c -0.941949 -0.765614  1.000000 -0.002344\n",
       "d  0.014498  0.007863 -0.002344  1.000000"
      ]
     },
     "execution_count": 51,
     "metadata": {},
     "output_type": "execute_result"
    }
   ],
   "source": [
    "df.corr()"
   ]
  },
  {
   "cell_type": "code",
   "execution_count": 55,
   "metadata": {
    "collapsed": false
   },
   "outputs": [
    {
     "data": {
      "text/plain": [
       "array([[1.        , 0.28919558, 0.77572437, ..., 0.18918963, 0.14453458,\n",
       "        0.56843827],\n",
       "       [0.28919558, 1.        , 0.32256391, ..., 0.95080902, 0.93765335,\n",
       "        0.90099654],\n",
       "       [0.77572437, 0.32256391, 1.        , ..., 0.05817021, 0.00801177,\n",
       "        0.33861939],\n",
       "       ...,\n",
       "       [0.18918963, 0.95080902, 0.05817021, ..., 1.        , 0.99869341,\n",
       "        0.91419151],\n",
       "       [0.14453458, 0.93765335, 0.00801177, ..., 0.99869341, 1.        ,\n",
       "        0.89585763],\n",
       "       [0.56843827, 0.90099654, 0.33861939, ..., 0.91419151, 0.89585763,\n",
       "        1.        ]])"
      ]
     },
     "execution_count": 55,
     "metadata": {},
     "output_type": "execute_result"
    }
   ],
   "source": [
    "np.corrcoef(df, df)"
   ]
  },
  {
   "cell_type": "markdown",
   "metadata": {},
   "source": [
    "# Note\n",
    "if correlation is needed to be done for all the columns in the data frame, we should use the pandas APIs. Numpy require columns to be given as inputs"
   ]
  },
  {
   "cell_type": "code",
   "execution_count": 50,
   "metadata": {
    "collapsed": false
   },
   "outputs": [
    {
     "data": {
      "image/png": "[encoded data removed]",
      "text/plain": [
       "<matplotlib.figure.Figure at 0x255eaf59c88>"
      ]
     },
     "metadata": {},
     "output_type": "display_data"
    }
   ],
   "source": [
    "plt.matshow(df.corr())\n",
    "plt.xticks(range(len(df.columns)), df.columns)\n",
    "plt.yticks(range(len(df.columns)), df.columns)\n",
    "plt.colorbar()\n",
    "plt.show()"
   ]
  },
  {
   "cell_type": "code",
   "execution_count": 60,
   "metadata": {
    "collapsed": false
   },
   "outputs": [
    {
     "data": {
      "text/html": [
       "<div>\n",
       "<style scoped>\n",
       "    .dataframe tbody tr th:only-of-type {\n",
       "        vertical-align: middle;\n",
       "    }\n",
       "\n",
       "    .dataframe tbody tr th {\n",
       "        vertical-align: top;\n",
       "    }\n",
       "\n",
       "    .dataframe thead th {\n",
       "        text-align: right;\n",
       "    }\n",
       "</style>\n",
       "<table border=\"1\" class=\"dataframe\">\n",
       "  <thead>\n",
       "    <tr style=\"text-align: right;\">\n",
       "      <th></th>\n",
       "      <th>A</th>\n",
       "      <th>B</th>\n",
       "      <th>C</th>\n",
       "    </tr>\n",
       "  </thead>\n",
       "  <tbody>\n",
       "    <tr>\n",
       "      <th>0</th>\n",
       "      <td>1</td>\n",
       "      <td>1</td>\n",
       "      <td>0.265948</td>\n",
       "    </tr>\n",
       "    <tr>\n",
       "      <th>1</th>\n",
       "      <td>1</td>\n",
       "      <td>2</td>\n",
       "      <td>-0.585936</td>\n",
       "    </tr>\n",
       "    <tr>\n",
       "      <th>2</th>\n",
       "      <td>2</td>\n",
       "      <td>3</td>\n",
       "      <td>-0.465499</td>\n",
       "    </tr>\n",
       "    <tr>\n",
       "      <th>3</th>\n",
       "      <td>2</td>\n",
       "      <td>4</td>\n",
       "      <td>0.972207</td>\n",
       "    </tr>\n",
       "  </tbody>\n",
       "</table>\n",
       "</div>"
      ],
      "text/plain": [
       "   A  B         C\n",
       "0  1  1  0.265948\n",
       "1  1  2 -0.585936\n",
       "2  2  3 -0.465499\n",
       "3  2  4  0.972207"
      ]
     },
     "execution_count": 60,
     "metadata": {},
     "output_type": "execute_result"
    }
   ],
   "source": [
    "df = pd.DataFrame({'A': [1, 1, 2, 2], 'B': [1, 2, 3, 4],'C': np.random.randn(4)})\n",
    "df"
   ]
  },
  {
   "cell_type": "code",
   "execution_count": 61,
   "metadata": {
    "collapsed": false
   },
   "outputs": [
    {
     "data": {
      "text/html": [
       "<div>\n",
       "<style scoped>\n",
       "    .dataframe tbody tr th:only-of-type {\n",
       "        vertical-align: middle;\n",
       "    }\n",
       "\n",
       "    .dataframe tbody tr th {\n",
       "        vertical-align: top;\n",
       "    }\n",
       "\n",
       "    .dataframe thead th {\n",
       "        text-align: right;\n",
       "    }\n",
       "</style>\n",
       "<table border=\"1\" class=\"dataframe\">\n",
       "  <thead>\n",
       "    <tr style=\"text-align: right;\">\n",
       "      <th></th>\n",
       "      <th>B</th>\n",
       "      <th>C</th>\n",
       "    </tr>\n",
       "    <tr>\n",
       "      <th>A</th>\n",
       "      <th></th>\n",
       "      <th></th>\n",
       "    </tr>\n",
       "  </thead>\n",
       "  <tbody>\n",
       "    <tr>\n",
       "      <th>1</th>\n",
       "      <td>3</td>\n",
       "      <td>-0.319988</td>\n",
       "    </tr>\n",
       "    <tr>\n",
       "      <th>2</th>\n",
       "      <td>7</td>\n",
       "      <td>0.506708</td>\n",
       "    </tr>\n",
       "  </tbody>\n",
       "</table>\n",
       "</div>"
      ],
      "text/plain": [
       "   B         C\n",
       "A             \n",
       "1  3 -0.319988\n",
       "2  7  0.506708"
      ]
     },
     "execution_count": 61,
     "metadata": {},
     "output_type": "execute_result"
    }
   ],
   "source": [
    "df.groupby('A').agg('sum')"
   ]
  },
  {
   "cell_type": "code",
   "execution_count": 62,
   "metadata": {
    "collapsed": false
   },
   "outputs": [
    {
     "data": {
      "text/plain": [
       "2    2\n",
       "1    2\n",
       "Name: A, dtype: int64"
      ]
     },
     "execution_count": 62,
     "metadata": {},
     "output_type": "execute_result"
    }
   ],
   "source": [
    "df.A.value_counts()"
   ]
  },
  {
   "cell_type": "code",
   "execution_count": null,
   "metadata": {
    "collapsed": true
   },
   "outputs": [],
   "source": []
  }
 ],
 "metadata": {
  "kernelspec": {
   "display_name": "Python 3",
   "language": "python",
   "name": "python3"
  },
  "language_info": {
   "codemirror_mode": {
    "name": "ipython",
    "version": 3
   },
   "file_extension": ".py",
   "mimetype": "text/x-python",
   "name": "python",
   "nbconvert_exporter": "python",
   "pygments_lexer": "ipython3",
   "version": "3.5.5"
  }
 },
 "nbformat": 4,
 "nbformat_minor": 2
}
