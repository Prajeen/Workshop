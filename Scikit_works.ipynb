{
 "cells": [
  {
   "cell_type": "code",
   "execution_count": 65,
   "metadata": {
    "collapsed": true
   },
   "outputs": [],
   "source": [
    "import numpy as np\n",
    "from sklearn.preprocessing import Imputer\n",
    "from sklearn.preprocessing import OneHotEncoder\n",
    "from sklearn.feature_extraction import DictVectorizer"
   ]
  },
  {
   "cell_type": "code",
   "execution_count": 66,
   "metadata": {
    "collapsed": false
   },
   "outputs": [
    {
     "data": {
      "text/plain": [
       "array([[2.        , 3.        ],\n",
       "       [4.66666667, 5.        ],\n",
       "       [5.        , 2.        ],\n",
       "       [7.        , 3.33333333]])"
      ]
     },
     "execution_count": 66,
     "metadata": {},
     "output_type": "execute_result"
    }
   ],
   "source": [
    "## Imputing data into missing places\n",
    "x = [[2,3],[np.NaN,5],[5,2],[7,np.NaN]]\n",
    "imp = Imputer(missing_values='NaN', strategy='mean', axis=0)\n",
    "\n",
    "imp.fit_transform(x)"
   ]
  },
  {
   "cell_type": "code",
   "execution_count": 62,
   "metadata": {
    "collapsed": false
   },
   "outputs": [
    {
     "data": {
      "text/plain": [
       "array([[1., 0., 0., 0., 1., 0., 0., 0., 1., 0.],\n",
       "       [0., 1., 0., 1., 0., 0., 0., 0., 1., 0.]])"
      ]
     },
     "execution_count": 62,
     "metadata": {},
     "output_type": "execute_result"
    }
   ],
   "source": [
    "## One hot encoder - \n",
    "oneH = OneHotEncoder(n_values=[3,3,4])\n",
    "oneH.fit([[0,0,3],[1,1,0],[1,2,2]])\n",
    "oneT = oneH.transform([[0,1,2],[1,0,2]])\n",
    "oneT.toarray()"
   ]
  },
  {
   "cell_type": "code",
   "execution_count": 74,
   "metadata": {
    "collapsed": false
   },
   "outputs": [
    {
     "name": "stdout",
     "output_type": "stream",
     "text": [
      "[[0. 1. 0. 0. 0.]]\n"
     ]
    },
    {
     "data": {
      "text/plain": [
       "array([[0., 0., 0., 1., 0.]])"
      ]
     },
     "execution_count": 74,
     "metadata": {},
     "output_type": "execute_result"
    }
   ],
   "source": [
    "h2 = OneHotEncoder(n_values=5)\n",
    "h2.fit([[0]])\n",
    "\n",
    "print(h2.transform([[1]]).toarray())\n",
    "h2.fit_transform([[3]]).toarray()"
   ]
  },
  {
   "cell_type": "code",
   "execution_count": 89,
   "metadata": {
    "collapsed": false
   },
   "outputs": [
    {
     "data": {
      "text/plain": [
       "array([[ 1.,  0.,  0.,  0.,  0.,  0.,  1.,  0.,  0.,  1.,  0., 12.],\n",
       "       [ 0.,  0.,  0.,  1.,  0.,  0.,  0.,  0.,  1.,  0.,  1., 23.],\n",
       "       [ 0.,  1.,  0.,  0.,  1.,  0.,  0.,  0.,  0.,  1.,  0., 45.],\n",
       "       [ 0.,  0.,  1.,  0.,  0.,  1.,  0.,  0.,  0.,  0.,  1., 34.],\n",
       "       [ 1.,  0.,  0.,  0.,  0.,  0.,  0.,  1.,  0.,  0.,  1., 56.]])"
      ]
     },
     "execution_count": 89,
     "metadata": {},
     "output_type": "execute_result"
    }
   ],
   "source": [
    "## Dict vectorizer- mainly used for extracting feature from sting type features\n",
    "dicVal = [{'city': 'Dubai', 'temp': 12, 'col': 'red', 'stat': 'High'}, \n",
    "          {'city':'mumbai', 'temp': 23, 'col': 'yel', 'stat': 'Med'}, \n",
    "          {'city': 'Ny', 'temp': 45, 'col': 'blu', 'stat': 'High'}, \n",
    "          {'city': 'london', 'temp': 34, 'col': 'mar', 'stat': 'Med'},\n",
    "          {'city': 'Dubai', 'temp': 56, 'col': 'whi', 'stat': 'Med'}]\n",
    "dic = DictVectorizer()\n",
    "dic.fit_transform(dicVal).toarray()"
   ]
  },
  {
   "cell_type": "code",
   "execution_count": 86,
   "metadata": {
    "collapsed": false
   },
   "outputs": [
    {
     "data": {
      "text/plain": [
       "array([[1.]])"
      ]
     },
     "execution_count": 86,
     "metadata": {},
     "output_type": "execute_result"
    }
   ],
   "source": [
    "dic.fit(dicVal)\n",
    "dic.fit_transform([{'city':'Dubai'}]).toarray()"
   ]
  },
  {
   "cell_type": "code",
   "execution_count": 87,
   "metadata": {
    "collapsed": false
   },
   "outputs": [
    {
     "data": {
      "text/plain": [
       "array([[1.]])"
      ]
     },
     "execution_count": 87,
     "metadata": {},
     "output_type": "execute_result"
    }
   ],
   "source": [
    "dic.fit_transform([{'city':''}]).toarray()"
   ]
  },
  {
   "cell_type": "code",
   "execution_count": null,
   "metadata": {
    "collapsed": true
   },
   "outputs": [],
   "source": []
  }
 ],
 "metadata": {
  "kernelspec": {
   "display_name": "Python 3",
   "language": "python",
   "name": "python3"
  },
  "language_info": {
   "codemirror_mode": {
    "name": "ipython",
    "version": 3
   },
   "file_extension": ".py",
   "mimetype": "text/x-python",
   "name": "python",
   "nbconvert_exporter": "python",
   "pygments_lexer": "ipython3",
   "version": "3.5.5"
  }
 },
 "nbformat": 4,
 "nbformat_minor": 2
}
